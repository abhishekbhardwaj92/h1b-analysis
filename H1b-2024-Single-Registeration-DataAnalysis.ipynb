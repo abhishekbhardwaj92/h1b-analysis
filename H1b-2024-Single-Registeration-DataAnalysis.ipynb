{
 "cells": [
  {
   "cell_type": "markdown",
   "id": "276a5fe2",
   "metadata": {},
   "source": [
    "# H1B-2024 Single Registration Data Analysis\n",
    "\n",
    "## Introduction\n",
    "\n",
    "This notebook provides an analysis of the H1B-2024 single registration data. The H1B visa is a non-immigrant visa that allows U.S. companies to employ foreign workers in specialty occupations. Analyzing the data helps to:\n",
    "\n",
    "- Understand the trends in H1B registrations.\n",
    "- Identify key insights regarding applicants and employers.\n",
    "- Highlight any irregularities or notable patterns in the data.\n",
    "\n",
    "## Data Sources\n",
    "\n",
    "- **Dataset Name**: [https://github.com/BloombergGraphics/2024-h1b-immigration-data]\n",
    "- **Source**: [BloombergGraphics]\n",
    "- **Time Period**: H1B registrations for the 2024 fiscal year.\n",
    "\n",
    "## Objectives\n",
    "\n",
    "1. Understand the distribution of registrations across various dimensions such as:\n",
    "    - Geographic locations (state/country of origin).\n",
    "    - Industry types.\n",
    "    - Job roles and wages.\n",
    "2. Analyze acceptance rates and trends.\n",
    "3. Visualize key insights using graphs and charts.\n",
    "\n",
    "## Steps in the Analysis\n",
    "\n",
    "1. **Data Loading and Preparation**\n",
    "    - Importing necessary libraries.\n",
    "    - Loading the dataset into Pandas DataFrame.\n",
    "    - Data cleaning (e.g., handling missing values, formatting columns).\n",
    "\n",
    "2. **Exploratory Data Analysis (EDA)**\n",
    "    - Summarizing data statistics.\n",
    "    - Analyzing distributions and correlations.\n",
    "    - Visualizing data with histograms, bar charts, scatter plots, etc.\n",
    "\n",
    "3. **Detailed Insights**\n",
    "    - Identifying top locations and industries.\n",
    "    - Analyzing wages and job roles.\n",
    "    - Spotting any anomalies in the data.\n",
    "\n",
    "4. **Conclusion and Recommendations**\n",
    "    - Summarizing findings.\n",
    "    - Proposing next steps for deeper analysis or data-driven actions.\n",
    "\n",
    "## Libraries Used\n",
    "\n",
    "The following Python libraries are used in this notebook:\n",
    "\n",
    "- **Pandas**: For data manipulation and analysis.\n",
    "- **NumPy**: For numerical computations.\n",
    "- **Matplotlib** and **Seaborn**: For data visualization.\n",
    "- **Scikit-learn**: (Optional) For advanced data analysis and modeling.\n",
    "\n",
    "## Notebook Structure\n",
    "\n",
    "1. **Introduction**: Overview of the problem and objectives.\n",
    "2. **Data Preparation**: Steps to prepare the dataset for analysis.\n",
    "3. **Exploratory Data Analysis (EDA)**: Key observations and insights.\n",
    "4. **In-Depth Analysis**: Detailed analysis of specific aspects of the data.\n",
    "5. **Visualization**: Graphical representation of findings.\n",
    "6. **Conclusion**: Key takeaways and recommendations.\n",
    "\n",
    "## Next Steps\n",
    "\n",
    "- Load the dataset and proceed to data cleaning.\n",
    "- Begin exploratory analysis to uncover initial trends.\n",
    "\n",
    "> **Note**: Please ensure that the dataset is formatted correctly and any personal or sensitive information is anonymized before analysis.\n"
   ]
  },
  {
   "cell_type": "code",
   "execution_count": null,
   "id": "cf41ae11",
   "metadata": {},
   "outputs": [],
   "source": [
    "# !pip3 install -U pandas\n",
    "# !pip3 install -U numpy\n",
    "# !pip3 install -U matplotlib\n",
    "# !pip3 install -U yfinance\n",
    "# !pip3 install -U yahooquery"
   ]
  },
  {
   "cell_type": "code",
   "execution_count": 124,
   "id": "61a46aff",
   "metadata": {},
   "outputs": [],
   "source": [
    "## Importing Lib\n",
    "import pandas as pd\n",
    "import numpy as np\n",
    "import matplotlib.pyplot as plt\n",
    "import yfinance as yf\n",
    "import yahooquery as yq\n",
    "\n",
    "#Getting Ticker \n",
    "def find_ticker(name):\n",
    "    try:\n",
    "        data = yq.search(name)\n",
    "    except ValueError as e: # Will catch JSONDecodeError\n",
    "        print(e)\n",
    "    else:\n",
    "        quotes = data['quotes']\n",
    "        if len(quotes) == 0:\n",
    "            return 'No Symbol Found'\n",
    "\n",
    "        symbol = quotes[0]['symbol']\n",
    "        \n",
    "        return symbol"
   ]
  },
  {
   "cell_type": "code",
   "execution_count": 82,
   "id": "d27667ca",
   "metadata": {},
   "outputs": [
    {
     "name": "stderr",
     "output_type": "stream",
     "text": [
      "<ipython-input-82-ea420adc19ef>:2: DtypeWarning: Columns (4,7,14,16,29,40,44,50,51,52,55) have mixed types. Specify dtype option on import or set low_memory=False.\n",
      "  data = pd.read_csv(\"../Downloads/TRK_13139_FY2024_single_reg.csv\")\n"
     ]
    }
   ],
   "source": [
    "   # import seaborn as sns\n",
    "data = pd.read_csv(\"TRK_13139_FY2024_single_reg.csv\")"
   ]
  },
  {
   "cell_type": "code",
   "execution_count": 83,
   "id": "63011292",
   "metadata": {},
   "outputs": [
    {
     "data": {
      "text/html": [
       "<div>\n",
       "<style scoped>\n",
       "    .dataframe tbody tr th:only-of-type {\n",
       "        vertical-align: middle;\n",
       "    }\n",
       "\n",
       "    .dataframe tbody tr th {\n",
       "        vertical-align: top;\n",
       "    }\n",
       "\n",
       "    .dataframe thead th {\n",
       "        text-align: right;\n",
       "    }\n",
       "</style>\n",
       "<table border=\"1\" class=\"dataframe\">\n",
       "  <thead>\n",
       "    <tr style=\"text-align: right;\">\n",
       "      <th></th>\n",
       "      <th>bcn</th>\n",
       "      <th>country_of_birth</th>\n",
       "      <th>country_of_nationality</th>\n",
       "      <th>ben_date_of_birth</th>\n",
       "      <th>ben_year_of_birth</th>\n",
       "      <th>gender</th>\n",
       "      <th>employer_name</th>\n",
       "      <th>FEIN</th>\n",
       "      <th>mail_addr</th>\n",
       "      <th>city</th>\n",
       "      <th>...</th>\n",
       "      <th>S1Q1B</th>\n",
       "      <th>BEN_EDUCATION_CODE</th>\n",
       "      <th>ED_LEVEL_DEFINITION</th>\n",
       "      <th>BEN_PFIELD_OF_STUDY</th>\n",
       "      <th>BEN_COMP_PAID</th>\n",
       "      <th>DOT_CODE</th>\n",
       "      <th>NAICS_CODE</th>\n",
       "      <th>S3Q1</th>\n",
       "      <th>S4Q1</th>\n",
       "      <th>T_U_VAWA_FLAG</th>\n",
       "    </tr>\n",
       "  </thead>\n",
       "  <tbody>\n",
       "    <tr>\n",
       "      <th>0</th>\n",
       "      <td>(b)(6)</td>\n",
       "      <td>IND</td>\n",
       "      <td>IND</td>\n",
       "      <td>(b)(6)</td>\n",
       "      <td>1994</td>\n",
       "      <td>male</td>\n",
       "      <td>Mphasis Corporation</td>\n",
       "      <td>954759720</td>\n",
       "      <td>41 Madison Ave</td>\n",
       "      <td>New York</td>\n",
       "      <td>...</td>\n",
       "      <td>NaN</td>\n",
       "      <td>NaN</td>\n",
       "      <td>NaN</td>\n",
       "      <td>NaN</td>\n",
       "      <td>NaN</td>\n",
       "      <td>NaN</td>\n",
       "      <td>NaN</td>\n",
       "      <td>NaN</td>\n",
       "      <td>NaN</td>\n",
       "      <td>NaN</td>\n",
       "    </tr>\n",
       "    <tr>\n",
       "      <th>1</th>\n",
       "      <td>(b)(6)</td>\n",
       "      <td>KOR</td>\n",
       "      <td>KOR</td>\n",
       "      <td>(b)(6)</td>\n",
       "      <td>1994</td>\n",
       "      <td>male</td>\n",
       "      <td>Tennessee Dental Professionals, PC</td>\n",
       "      <td>200418100</td>\n",
       "      <td>1200 Network Centre Drive</td>\n",
       "      <td>Effingham</td>\n",
       "      <td>...</td>\n",
       "      <td>NaN</td>\n",
       "      <td>NaN</td>\n",
       "      <td>NaN</td>\n",
       "      <td>NaN</td>\n",
       "      <td>NaN</td>\n",
       "      <td>NaN</td>\n",
       "      <td>NaN</td>\n",
       "      <td>NaN</td>\n",
       "      <td>NaN</td>\n",
       "      <td>NaN</td>\n",
       "    </tr>\n",
       "    <tr>\n",
       "      <th>2</th>\n",
       "      <td>(b)(6)</td>\n",
       "      <td>IND</td>\n",
       "      <td>IND</td>\n",
       "      <td>(b)(6)</td>\n",
       "      <td>1982</td>\n",
       "      <td>male</td>\n",
       "      <td>KPMG LLP</td>\n",
       "      <td>135565207</td>\n",
       "      <td>2323 Ross Ave</td>\n",
       "      <td>Dallas</td>\n",
       "      <td>...</td>\n",
       "      <td>NaN</td>\n",
       "      <td>NaN</td>\n",
       "      <td>NaN</td>\n",
       "      <td>NaN</td>\n",
       "      <td>NaN</td>\n",
       "      <td>NaN</td>\n",
       "      <td>NaN</td>\n",
       "      <td>NaN</td>\n",
       "      <td>NaN</td>\n",
       "      <td>NaN</td>\n",
       "    </tr>\n",
       "    <tr>\n",
       "      <th>3</th>\n",
       "      <td>(b)(6)</td>\n",
       "      <td>IND</td>\n",
       "      <td>IND</td>\n",
       "      <td>(b)(6)</td>\n",
       "      <td>1995</td>\n",
       "      <td>male</td>\n",
       "      <td>3D TECHNOLOGIES LLC</td>\n",
       "      <td>384053952</td>\n",
       "      <td>423 W Wheatland Rd</td>\n",
       "      <td>Duncanville</td>\n",
       "      <td>...</td>\n",
       "      <td>NaN</td>\n",
       "      <td>NaN</td>\n",
       "      <td>NaN</td>\n",
       "      <td>NaN</td>\n",
       "      <td>NaN</td>\n",
       "      <td>NaN</td>\n",
       "      <td>NaN</td>\n",
       "      <td>NaN</td>\n",
       "      <td>NaN</td>\n",
       "      <td>NaN</td>\n",
       "    </tr>\n",
       "    <tr>\n",
       "      <th>4</th>\n",
       "      <td>(b)(6)</td>\n",
       "      <td>GHA</td>\n",
       "      <td>GHA</td>\n",
       "      <td>(b)(6)</td>\n",
       "      <td>1990</td>\n",
       "      <td>male</td>\n",
       "      <td>LER TechForce, LLC</td>\n",
       "      <td>352139176</td>\n",
       "      <td>1888 Poshard Drive</td>\n",
       "      <td>Columbus</td>\n",
       "      <td>...</td>\n",
       "      <td>NaN</td>\n",
       "      <td>NaN</td>\n",
       "      <td>NaN</td>\n",
       "      <td>NaN</td>\n",
       "      <td>NaN</td>\n",
       "      <td>NaN</td>\n",
       "      <td>NaN</td>\n",
       "      <td>NaN</td>\n",
       "      <td>NaN</td>\n",
       "      <td>NaN</td>\n",
       "    </tr>\n",
       "  </tbody>\n",
       "</table>\n",
       "<p>5 rows × 56 columns</p>\n",
       "</div>"
      ],
      "text/plain": [
       "      bcn country_of_birth country_of_nationality ben_date_of_birth  \\\n",
       "0  (b)(6)              IND                    IND            (b)(6)   \n",
       "1  (b)(6)              KOR                    KOR            (b)(6)   \n",
       "2  (b)(6)              IND                    IND            (b)(6)   \n",
       "3  (b)(6)              IND                    IND            (b)(6)   \n",
       "4  (b)(6)              GHA                    GHA            (b)(6)   \n",
       "\n",
       "  ben_year_of_birth gender                       employer_name       FEIN  \\\n",
       "0              1994   male                 Mphasis Corporation  954759720   \n",
       "1              1994   male  Tennessee Dental Professionals, PC  200418100   \n",
       "2              1982   male                            KPMG LLP  135565207   \n",
       "3              1995   male                 3D TECHNOLOGIES LLC  384053952   \n",
       "4              1990   male                  LER TechForce, LLC  352139176   \n",
       "\n",
       "                   mail_addr         city  ... S1Q1B BEN_EDUCATION_CODE  \\\n",
       "0             41 Madison Ave     New York  ...   NaN                NaN   \n",
       "1  1200 Network Centre Drive    Effingham  ...   NaN                NaN   \n",
       "2              2323 Ross Ave       Dallas  ...   NaN                NaN   \n",
       "3         423 W Wheatland Rd  Duncanville  ...   NaN                NaN   \n",
       "4         1888 Poshard Drive     Columbus  ...   NaN                NaN   \n",
       "\n",
       "  ED_LEVEL_DEFINITION BEN_PFIELD_OF_STUDY BEN_COMP_PAID DOT_CODE NAICS_CODE  \\\n",
       "0                 NaN                 NaN           NaN      NaN        NaN   \n",
       "1                 NaN                 NaN           NaN      NaN        NaN   \n",
       "2                 NaN                 NaN           NaN      NaN        NaN   \n",
       "3                 NaN                 NaN           NaN      NaN        NaN   \n",
       "4                 NaN                 NaN           NaN      NaN        NaN   \n",
       "\n",
       "  S3Q1 S4Q1 T_U_VAWA_FLAG  \n",
       "0  NaN  NaN           NaN  \n",
       "1  NaN  NaN           NaN  \n",
       "2  NaN  NaN           NaN  \n",
       "3  NaN  NaN           NaN  \n",
       "4  NaN  NaN           NaN  \n",
       "\n",
       "[5 rows x 56 columns]"
      ]
     },
     "execution_count": 83,
     "metadata": {},
     "output_type": "execute_result"
    }
   ],
   "source": [
    "# Display the first few rows\n",
    "data.head()"
   ]
  },
  {
   "cell_type": "code",
   "execution_count": 84,
   "id": "e688d54f",
   "metadata": {},
   "outputs": [
    {
     "name": "stdout",
     "output_type": "stream",
     "text": [
      "bcn                              0\n",
      "country_of_birth                 0\n",
      "country_of_nationality           0\n",
      "ben_date_of_birth                0\n",
      "ben_year_of_birth                0\n",
      "gender                           0\n",
      "employer_name                    1\n",
      "FEIN                             0\n",
      "mail_addr                        0\n",
      "city                             0\n",
      "state                            0\n",
      "zip                              0\n",
      "agent_first_name                52\n",
      "agent_last_name                163\n",
      "lottery_year                     0\n",
      "status_type                      0\n",
      "ben_multi_reg_ind                0\n",
      "RECEIPT_NUMBER              281270\n",
      "rec_date                    281270\n",
      "FIRST_DECISION              281685\n",
      "first_decision_date         281685\n",
      "i129_employer_name          281270\n",
      "PET_STREET                  281270\n",
      "PET_CITY                    281270\n",
      "PET_STATE                   281270\n",
      "PET_ZIP                     281271\n",
      "REQUESTED_CLASS             281273\n",
      "BASIS_FOR_CLASSIFICATION    281273\n",
      "REQUESTED_ACTION            281270\n",
      "NUMBER_OF_BENEFICIARIES     282980\n",
      "BEN_SEX                     281270\n",
      "BEN_COUNTRY_OF_BIRTH        281270\n",
      "BEN_CURRENT_CLASS           297415\n",
      "JOB_TITLE                   299776\n",
      "DOL_ETA_CASE_NUMBER         281621\n",
      "WORKSITE_STREET             281279\n",
      "WORKSITE_CITY               281338\n",
      "WORKSITE_STATE              281333\n",
      "WORKSITE_ZIP                281334\n",
      "FULL_TIME_IND               307605\n",
      "WAGE_AMT                    281427\n",
      "WAGE_UNIT                   281417\n",
      "valid_from                  282539\n",
      "valid_to                    282539\n",
      "NUM_OF_EMP_IN_US            283200\n",
      "S1Q1A                       281284\n",
      "S1Q1B                       299432\n",
      "BEN_EDUCATION_CODE          303443\n",
      "ED_LEVEL_DEFINITION         303443\n",
      "BEN_PFIELD_OF_STUDY         281353\n",
      "BEN_COMP_PAID               282811\n",
      "DOT_CODE                    281522\n",
      "NAICS_CODE                  281364\n",
      "S3Q1                        281272\n",
      "S4Q1                        281270\n",
      "T_U_VAWA_FLAG               350084\n",
      "dtype: int64\n"
     ]
    }
   ],
   "source": [
    "# Data Cleaning and Preparation\n",
    "# Check for missing values\n",
    "print(data.isnull().sum())"
   ]
  },
  {
   "cell_type": "code",
   "execution_count": 85,
   "id": "32b44112",
   "metadata": {},
   "outputs": [],
   "source": [
    "data = data[data.FIRST_DECISION == 'Approved']"
   ]
  },
  {
   "cell_type": "code",
   "execution_count": 86,
   "id": "9d575290",
   "metadata": {},
   "outputs": [],
   "source": [
    "# Fill or drop missing values if necessary\n",
    "data = data.dropna(subset=['employer_name', 'country_of_birth', 'JOB_TITLE', 'WAGE_AMT', 'WORKSITE_STATE'])"
   ]
  },
  {
   "cell_type": "code",
   "execution_count": 77,
   "id": "16ddfab4",
   "metadata": {},
   "outputs": [],
   "source": [
    "# Convert WAGE_AMT to numeric if needed\n",
    "data['WAGE_AMT'] = pd.to_numeric(data['WAGE_AMT'], errors='coerce')"
   ]
  },
  {
   "cell_type": "code",
   "execution_count": 150,
   "id": "e6c05a39",
   "metadata": {},
   "outputs": [],
   "source": [
    "# Improving Company Name Quality for yf \n",
    "data.employer_name = data.employer_name.apply(lambda x: x.lower())\n",
    "data.JOB_TITLE = data.JOB_TITLE.apply(lambda x: x.lower())\n",
    "\n",
    "data.employer_name = data.employer_name.apply(lambda x: 'amazon' if 'amazon' in x else x)\n",
    "data.employer_name = data.employer_name.apply(lambda x: 'deloitte' if 'deloitte' in x else x)\n",
    "data.employer_name = data.employer_name.apply(lambda x: x.replace('corporation','') if 'corporation' in x else x)\n",
    "data.employer_name = data.employer_name.apply(lambda x: x.replace('us corp','') if 'us corp' in x else x)\n",
    "data.employer_name = data.employer_name.apply(lambda x: x.replace('inc.','') if 'inc.' in x else x)\n",
    "data.employer_name = data.employer_name.apply(lambda x: x.replace('limited','') if 'limited' in x else x)\n",
    "data.employer_name = data.employer_name.apply(lambda x: x.replace('limited','') if 'limited' in x else x)\n",
    "data.employer_name = data.employer_name.apply(lambda x: x.replace('-','') )\n",
    "data.employer_name = data.employer_name.apply(lambda x: x.replace('google','alphabet inc') if 'Google' in x else x)\n"
   ]
  },
  {
   "cell_type": "code",
   "execution_count": 134,
   "id": "a6ec6c6f",
   "metadata": {},
   "outputs": [
    {
     "name": "stdout",
     "output_type": "stream",
     "text": [
      "Top Employers:\n",
      "employer_name\n",
      "amazon                                          2805\n",
      "infosys                                         1662\n",
      "cognizant technology solutions                  1439\n",
      "alphabet inc llc                                 868\n",
      "microsoft                                        725\n",
      "ibm                                              717\n",
      "wipro                                            639\n",
      "meta platforms,                                  536\n",
      "capgemini america,                               533\n",
      "apple                                            518\n",
      "intel                                            503\n",
      "tata consultancy services                        488\n",
      "deloitte                                         481\n",
      "ernst & young u.s. llp                           462\n",
      "ltimindtree                                      414\n",
      "accenture llp                                    404\n",
      "mckinsey & company,  united states               308\n",
      "hcl america inc                                  280\n",
      "tech mahindra americas                           274\n",
      "walmart associates,                              274\n",
      "tesla,                                           264\n",
      "jpmorgan chase & co.                             257\n",
      "oracle america,                                  216\n",
      "nvidia                                           192\n",
      "qualcomm technologies,                           186\n",
      "goldman sachs & co llc                           183\n",
      "citibank, n.a.                                   168\n",
      "bloomberg lp                                     158\n",
      "the boston consulting group,                     140\n",
      "cummins                                          130\n",
      "cisco systems,                                   119\n",
      "kpmg llp                                         119\n",
      "pricewaterhousecoopers advisory services llc     107\n",
      "applied materials,                               106\n",
      "salesforce,                                      106\n",
      "ust global inc                                    98\n",
      "eviden usa,                                       95\n",
      "bytedance                                         93\n",
      "nagarro                                           92\n",
      "linkedin                                          92\n",
      "micron technology,                                91\n",
      "advanced micro devices,                           90\n",
      "adobe                                             88\n",
      "uber technologies,                                86\n",
      "persistent systems inc                            85\n",
      "coforge                                           83\n",
      "expedia,                                          82\n",
      "mphasis                                           80\n",
      "blackrock financial management,                   77\n",
      "intuit                                            76\n",
      "Name: count, dtype: int64\n"
     ]
    }
   ],
   "source": [
    "# Exploratory Data Analysis (EDA)\n",
    "# Top Employers\n",
    "top_employers = data['employer_name'].value_counts().head(50)\n",
    "print(\"Top Employers:\")\n",
    "print(top_employers)"
   ]
  },
  {
   "cell_type": "code",
   "execution_count": 56,
   "id": "d52b527a",
   "metadata": {},
   "outputs": [
    {
     "name": "stdout",
     "output_type": "stream",
     "text": [
      "Top Countries of Birth:\n",
      "country_of_birth\n",
      "IND    28753\n",
      "CHN     8301\n",
      "TWN      828\n",
      "KOR      750\n",
      "MEX      727\n",
      "CAN      697\n",
      "PAK      583\n",
      "PHL      504\n",
      "BRA      467\n",
      "NPL      456\n",
      "Name: count, dtype: int64\n"
     ]
    }
   ],
   "source": [
    "# Country of Birth Distribution\n",
    "birth_country_counts = data['country_of_birth'].value_counts().head(10)\n",
    "print(\"Top Countries of Birth:\")\n",
    "print(birth_country_counts)"
   ]
  },
  {
   "cell_type": "code",
   "execution_count": 151,
   "id": "d12b8e8f",
   "metadata": {},
   "outputs": [
    {
     "name": "stdout",
     "output_type": "stream",
     "text": [
      "Most Common Job Titles:\n",
      "JOB_TITLE\n",
      "software engineer                   3867\n",
      "software developer                  2039\n",
      "software development engineer i     1214\n",
      "analyst                              581\n",
      "associate                            574\n",
      "data scientist                       487\n",
      "software development engineer ii     375\n",
      "senior software engineer             310\n",
      "data engineer                        293\n",
      "process engineer                     271\n",
      "Name: count, dtype: int64\n"
     ]
    }
   ],
   "source": [
    "# Common Job Titles\n",
    "common_jobs = data['JOB_TITLE'].value_counts().head(10)\n",
    "print(\"Most Common Job Titles:\")\n",
    "print(common_jobs)"
   ]
  },
  {
   "cell_type": "code",
   "execution_count": 58,
   "id": "b0ac19f7",
   "metadata": {},
   "outputs": [
    {
     "name": "stdout",
     "output_type": "stream",
     "text": [
      "Wage Statistics:\n",
      "count    4.925500e+04\n",
      "mean     1.121078e+05\n",
      "std      2.087781e+05\n",
      "min      0.000000e+00\n",
      "25%      8.022600e+04\n",
      "50%      1.003600e+05\n",
      "75%      1.328700e+05\n",
      "max      1.961310e+07\n",
      "Name: WAGE_AMT, dtype: float64\n"
     ]
    }
   ],
   "source": [
    "# Wage Analysis\n",
    "print(\"Wage Statistics:\")\n",
    "print(data['WAGE_AMT'].describe())"
   ]
  },
  {
   "cell_type": "code",
   "execution_count": 59,
   "id": "7a5a35f6",
   "metadata": {},
   "outputs": [
    {
     "name": "stdout",
     "output_type": "stream",
     "text": [
      "Top Worksite States:\n",
      "WORKSITE_STATE\n",
      "CA    10073\n",
      "TX     7951\n",
      "NJ     4673\n",
      "NY     4386\n",
      "WA     3459\n",
      "IL     2375\n",
      "MA     2012\n",
      "GA     1435\n",
      "NC     1379\n",
      "VA     1321\n",
      "FL     1231\n",
      "MI     1127\n",
      "PA      943\n",
      "MD      807\n",
      "AZ      664\n",
      "OH      605\n",
      "IN      447\n",
      "OR      417\n",
      "CT      393\n",
      "CO      368\n",
      "Name: count, dtype: int64\n"
     ]
    }
   ],
   "source": [
    "# Worksite State Distribution\n",
    "worksite_distribution = data['WORKSITE_STATE'].value_counts().head(20)\n",
    "print(\"Top Worksite States:\")\n",
    "print(worksite_distribution)"
   ]
  },
  {
   "cell_type": "code",
   "execution_count": 154,
   "id": "497d854d",
   "metadata": {
    "scrolled": true
   },
   "outputs": [
    {
     "data": {
      "image/png": "[encoded data removed]",
      "text/plain": [
       "<Figure size 1440x432 with 1 Axes>"
      ]
     },
     "metadata": {
      "needs_background": "light"
     },
     "output_type": "display_data"
    }
   ],
   "source": [
    "# Visualization\n",
    "# Bar chart for top employers\n",
    "plt.figure(figsize=(20, 6))\n",
    "top_employers.plot(kind='bar', color='skyblue')\n",
    "plt.title('Top 50 Employers with Approved H1B visas in 2024 (Ignoring RFE)')\n",
    "plt.xlabel('Employer Name')\n",
    "plt.ylabel('Number of Registrations')\n",
    "plt.show()\n"
   ]
  },
  {
   "cell_type": "code",
   "execution_count": 148,
   "id": "54364526",
   "metadata": {},
   "outputs": [
    {
     "data": {
      "image/png": "[encoded data removed]",
      "text/plain": [
       "<Figure size 720x432 with 1 Axes>"
      ]
     },
     "metadata": {
      "needs_background": "light"
     },
     "output_type": "display_data"
    }
   ],
   "source": [
    "# Bar chart for country of birth\n",
    "plt.figure(figsize=(10, 6))\n",
    "birth_country_counts.plot(kind='bar', color='orange')\n",
    "plt.title('Top 10 Countries of Birth')\n",
    "plt.xlabel('Country of Birth')\n",
    "plt.ylabel('Number of Registrations')\n",
    "plt.show()\n"
   ]
  },
  {
   "cell_type": "code",
   "execution_count": 152,
   "id": "acc9d97e",
   "metadata": {},
   "outputs": [
    {
     "data": {
      "image/png": "[encoded data removed]",
      "text/plain": [
       "<Figure size 720x432 with 1 Axes>"
      ]
     },
     "metadata": {
      "needs_background": "light"
     },
     "output_type": "display_data"
    }
   ],
   "source": [
    "# Bar chart for common job titles\n",
    "plt.figure(figsize=(10, 6))\n",
    "common_jobs.plot(kind='bar', color='green')\n",
    "plt.title('Top 10 Job Titles')\n",
    "plt.xlabel('Job Title')\n",
    "plt.ylabel('Number of Registrations')\n",
    "plt.show()"
   ]
  },
  {
   "cell_type": "code",
   "execution_count": null,
   "id": "2951edf5",
   "metadata": {},
   "outputs": [],
   "source": []
  }
 ],
 "metadata": {
  "kernelspec": {
   "display_name": "Python 3",
   "language": "python",
   "name": "python3"
  },
  "language_info": {
   "codemirror_mode": {
    "name": "ipython",
    "version": 3
   },
   "file_extension": ".py",
   "mimetype": "text/x-python",
   "name": "python",
   "nbconvert_exporter": "python",
   "pygments_lexer": "ipython3",
   "version": "3.8.5"
  }
 },
 "nbformat": 4,
 "nbformat_minor": 5
}
